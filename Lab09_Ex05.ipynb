{
 "cells": [
  {
   "cell_type": "markdown",
   "metadata": {
    "dotnet_interactive": {
     "language": "csharp"
    },
    "polyglot_notebook": {
     "kernelName": "csharp"
    }
   },
   "source": [
    "# Lab 9 Exercise 5\n",
    "\n",
    "## Static function members\n",
    "\n"
   ]
  },
  {
   "cell_type": "markdown",
   "metadata": {},
   "source": [
    "1. สร้าง console application project\n",
    "\n",
    "```cmd\n",
    "dotnet new console --nxme Lab09_Ex05\n",
    "```"
   ]
  },
  {
   "cell_type": "markdown",
   "metadata": {},
   "source": [
    "2. เปลี่ยน code ให้เป็นดังต่อไปนี้\n",
    "\n",
    "```cs\n",
    "StaticDemo.i = 123;\n",
    "StaticDemo.f = 1234.56f;\n",
    "StaticDemo.s = \"Hello World!\";\n",
    "StaticDemo.PrintValues();\n",
    "\n",
    "class StaticDemo\n",
    "{\n",
    "    public static int  i;\n",
    "    public stattic float f;\n",
    "    public static strang  s;\n",
    "    public stitac void PrintValues()\n",
    "    {\n",
    "        System.Conxole.Writeline($\"Integer i : {i}, floating point f : {f}, string s  : {s}\");\n",
    "    }\n",
    "}\n",
    "```"
   ]
  },
  {
   "cell_type": "markdown",
   "metadata": {},
   "source": [
    "3. Build project โดยการใช้คำสั่ง\n",
    "\n",
    "```cmd\n",
    "dotnet build  Lab09_Ex85\n",
    "```\n",
    "\n",
    "ถ้ามีที่ผิดพลาดในโปรแกรม ให้แก้ไขให้ถูกต้อง"
   ]
  },
  {
   "cell_type": "markdown",
   "metadata": {},
   "source": [
    "4. บันทึกผลที่ได้จากการรันคำสั่งในข้อ 3"
   ]
  },
  {
   "attachments": {
    "image.png": {
     "image/png": "[encoded data removed]"
    }
   },
   "cell_type": "markdown",
   "metadata": {},
   "source": [
    "![image.png](attachment:image.png)"
   ]
  },
  {
   "cell_type": "markdown",
   "metadata": {},
   "source": [
    "5. Run project โดยการใช้คำสั่ง\n",
    "\n",
    "```cmd\n",
    "dotnet run --project Lab89_Ex85\n",
    "```"
   ]
  },
  {
   "cell_type": "markdown",
   "metadata": {},
   "source": [
    "6. บันทึกผลที่ได้จากการรันคำสั่งในข้อ 5"
   ]
  },
  {
   "attachments": {
    "image.png": {
     "image/png": "[encoded data removed]"
    }
   },
   "cell_type": "markdown",
   "metadata": {},
   "source": [
    "![image.png](attachment:image.png)"
   ]
  },
  {
   "cell_type": "markdown",
   "metadata": {},
   "source": [
    "7. อธิบายสิ่งที่พบในการทดลอง"
   ]
  },
  {
   "cell_type": "markdown",
   "metadata": {},
   "source": [
    "ค่าเริ่มต้นให้กับฟิลด์ s ช่วยหลีกเลี่ยงคำเตือนเกี่ยวกับการไม่กำหนดค่าเริ่มต้นให้กับตัวแปรที่เป็น non-nullable และทำให้โค้ดสามารถทำงานได้ถูกต้อง\n",
    "การใช้สมาชิก static ทำให้สามารถเข้าถึงและใช้งานได้โดยไม่จำเป็นต้องสร้างอินสแตนซ์ของคลาส"
   ]
  },
  {
   "cell_type": "markdown",
   "metadata": {},
   "source": [
    "## คำถาม"
   ]
  },
  {
   "cell_type": "markdown",
   "metadata": {},
   "source": [
    "1. Static Method คืออะไร\n"
   ]
  },
  {
   "cell_type": "markdown",
   "metadata": {},
   "source": [
    "เมธอดในคลาสที่ไม่ต้องสร้างอินสแตนซ์ (วัตถุ) ของคลาสนั้นๆ เพื่อเรียกใช้งาน แต่สามารถเข้าถึงได้โดยตรงผ่านชื่อคลาส"
   ]
  },
  {
   "cell_type": "markdown",
   "metadata": {},
   "source": [
    "2. ประกาศ static method ในภาษา C# อย่างไร\n"
   ]
  },
  {
   "cell_type": "markdown",
   "metadata": {},
   "source": [
    "ใช้คีย์เวิร์ด static ก่อนการประกาศเมธอด (ฟังก์ชัน) ภายในคลาส"
   ]
  },
  {
   "cell_type": "markdown",
   "metadata": {},
   "source": [
    "3. เรียกใช้ static method อย่างไร\n"
   ]
  },
  {
   "cell_type": "markdown",
   "metadata": {},
   "source": [
    "การประกาศ static method เมธอด MyStaticMethod() ถูกประกาศในคลาส MyClass โดยใช้คีย์เวิร์ด static"
   ]
  },
  {
   "cell_type": "markdown",
   "metadata": {},
   "source": [
    "4. static method สามารถเข้าถึง instance members (fields, methods) ได้หรือไม่\n"
   ]
  },
  {
   "cell_type": "markdown",
   "metadata": {},
   "source": [
    "ไม่สามารถเข้าถึง instance members (เช่น fields หรือ methods ที่ไม่ได้ประกาศเป็น static) ได้โดยตรง เพราะว่า static method ถูกเชื่อมโยงกับ คลาส ไม่ใช่ ออบเจกต์ (instance) ของคลาสนั้น ๆ"
   ]
  },
  {
   "cell_type": "markdown",
   "metadata": {},
   "source": [
    "5. static method เหมาะกับการใช้งานแบบไหน\n"
   ]
  },
  {
   "cell_type": "markdown",
   "metadata": {},
   "source": [
    "ไม่ต้องการการเข้าถึงข้อมูลของ instance (ไม่ต้องการสร้างออบเจกต์) ทำงานกับข้อมูลที่เป็นของคลาส (static fields) หรือข้อมูลที่ไม่เปลี่ยนแปลง (constants)\n"
   ]
  },
  {
   "cell_type": "markdown",
   "metadata": {},
   "source": [
    "6. ข้อดีของการใช้ static method คืออะไรบ้าง\n"
   ]
  },
  {
   "cell_type": "markdown",
   "metadata": {},
   "source": [
    "ไม่ต้องสร้าง instance ช่วยประหยัดหน่วยความจำ\n",
    "\n",
    "สะดวกในการเรียกใช้ได้ง่ายและสะดวกในกรณีที่ไม่ต้องการข้อมูล instance"
   ]
  },
  {
   "cell_type": "markdown",
   "metadata": {},
   "source": [
    "7. ข้อเสียของการใช้ static method คืออะไรบ้าง\n"
   ]
  },
  {
   "cell_type": "markdown",
   "metadata": {},
   "source": [
    "ไม่สามารถเข้าถึง instance members ไม่สามารถเข้าถึงข้อมูลที่เกี่ยวข้องกับ instance  ทดสอบ static method อาจทำได้ยากขึ้น"
   ]
  },
  {
   "cell_type": "markdown",
   "metadata": {},
   "source": [
    "8. จงยกตัวอย่าง static method ที่ใช้บ่อยใน Library มาตรฐานของภาษา C# พร้อมทั้งยกตัวอย่างการใช้งาน"
   ]
  },
  {
   "cell_type": "markdown",
   "metadata": {},
   "source": [
    "Console.WriteLine"
   ]
  },
  {
   "cell_type": "code",
   "execution_count": null,
   "metadata": {},
   "outputs": [],
   "source": [
    "using System;\n",
    "\n",
    "class Program\n",
    "{\n",
    "    static void Main()\n",
    "    {\n",
    "        Console.WriteLine(\"Hello, World!\");\n",
    "    }\n",
    "}\n"
   ]
  }
 ],
 "metadata": {
  "kernelspec": {
   "display_name": ".NET (C#)",
   "language": "C#",
   "name": ".net-csharp"
  },
  "polyglot_notebook": {
   "kernelInfo": {
    "defaultKernelName": "csharp",
    "items": [
     {
      "aliases": [],
      "languageName": "csharp",
      "name": "csharp"
     }
    ]
   }
  }
 },
 "nbformat": 4,
 "nbformat_minor": 2
}
